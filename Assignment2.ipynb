{
 "cells": [
  {
   "cell_type": "raw",
   "metadata": {},
   "source": [
    "1.1  Write a Python Program to implement your own myreduce() function which works exactly like Python's built-in function reduce() "
   ]
  },
  {
   "cell_type": "code",
   "execution_count": 11,
   "metadata": {},
   "outputs": [
    {
     "name": "stdout",
     "output_type": "stream",
     "text": [
      "24\n",
      "24\n"
     ]
    }
   ],
   "source": [
    "def myreduce(function,iterable):\n",
    "    initial=iterable[0]\n",
    "    for i in iterable[1:]:\n",
    "        initial=function(initial,i)\n",
    "    return initial\n",
    "def mu(a,b):\n",
    "    return a*b\n",
    "result=myreduce(mu,[1,2,3,4])\n",
    "print(result)\n",
    "#comparing with inbuilt reduce function\n",
    "from functools import reduce\n",
    "re=reduce(mu,[1,2,3,4])\n",
    "print(re)"
   ]
  },
  {
   "cell_type": "markdown",
   "metadata": {},
   "source": [
    "1.2 Write a Python program to implement your own myfilter() function which works exactly like\n",
    "Python's built-in function filter()"
   ]
  },
  {
   "cell_type": "code",
   "execution_count": 6,
   "metadata": {},
   "outputs": [
    {
     "name": "stdout",
     "output_type": "stream",
     "text": [
      "[2, 4, 6, 8]\n",
      "[2, 4, 6, 8]\n"
     ]
    }
   ],
   "source": [
    "def myfilter(function,iterable):\n",
    "    result=[]\n",
    "    for i in iterable:\n",
    "        if  function(i):\n",
    "            result.append(i)\n",
    "    return result\n",
    "def even(x):\n",
    "    return x%2==0\n",
    "resulti=myfilter(even,[2,3,4,5,6,7,8,9])\n",
    "print(resulti)i\n",
    "#comparing with inbuilt filter function\n",
    "res=list(filter(even,[2,3,4,5,6,7,8,9]))\n",
    "print(res)\n",
    "        \n",
    "\n",
    "            "
   ]
  },
  {
   "cell_type": "raw",
   "metadata": {},
   "source": [
    "2.Implement List comprehensions to produce the following lists.\n"
   ]
  },
  {
   "cell_type": "code",
   "execution_count": 31,
   "metadata": {},
   "outputs": [
    {
     "name": "stdout",
     "output_type": "stream",
     "text": [
      "['A', 'C', 'A', 'D', 'G', 'I', 'L', 'D']\n",
      "['x', 'xx', 'xxx', 'xxxx', 'y', 'yy', 'yyy', 'yyyy', 'z', 'zz', 'zzz', 'zzzz']\n",
      "['x', 'y', 'z', 'xx', 'yy', 'zz', 'xxx', 'yyy', 'zzz', 'xxxx', 'yyyy', 'zzzz']\n",
      "[[2], [3], [4], [3], [4], [5], [4], [5], [6]]\n",
      "[[2, 3, 4, 5], [3, 4, 5, 6], [4, 5, 6, 7], [5, 6, 7, 8]]\n",
      "[(1, 1), (2, 1), (3, 1), (1, 2), (2, 2), (3, 2), (1, 3), (2, 3), (3, 3)]\n"
     ]
    }
   ],
   "source": [
    "print([i for i in 'ACADGILD'], end='\\n')\n",
    "print([i*j for i in 'xyz' for j in range(1,5)],end='\\n')\n",
    "print([i*j for i in range(1,5) for j in 'xyz'],end='\\n')\n",
    "print([[i+j] for i in range(2,5) for j in range(0,3)],end='\\n')\n",
    "print([[i+j for i in range(2,6)] for j in range(0,4)],end='\\n')\n",
    "print([(j,i) for i in range(1,4) for j in range(1,4)],end='\\n')"
   ]
  },
  {
   "cell_type": "raw",
   "metadata": {},
   "source": [
    "3.Implement a function longestWord() that takes a list of words and returns the longest one."
   ]
  },
  {
   "cell_type": "code",
   "execution_count": 1,
   "metadata": {},
   "outputs": [
    {
     "name": "stdout",
     "output_type": "stream",
     "text": [
      "enter list of words:my name is aparna\n",
      "aparna\n"
     ]
    }
   ],
   "source": [
    "def longestword():\n",
    "    li=input(\"enter list of words:\")\n",
    "    words=li.split()\n",
    "    wordlen=[]\n",
    "    for i in words:\n",
    "        wordlen.append(len(i))\n",
    "    print(words[wordlen.index(max(wordlen))])\n",
    "longestword()       "
   ]
  },
  {
   "cell_type": "markdown",
   "metadata": {},
   "source": [
    "# TASK2"
   ]
  },
  {
   "cell_type": "raw",
   "metadata": {},
   "source": [
    "1.1 Write a Python Program(with class concepts) to find the area of the triangle using the below\n",
    "formula.\n",
    "area = (s*(s-a)*(s-b)*(s-c)) ** 0.5\n",
    "Function to take the length of the sides of triangle from user should be defined in the parent\n",
    "class and function to calculate the area should be defined in subclass."
   ]
  },
  {
   "cell_type": "code",
   "execution_count": 8,
   "metadata": {},
   "outputs": [
    {
     "name": "stdout",
     "output_type": "stream",
     "text": [
      "72.61843774138907\n"
     ]
    }
   ],
   "source": [
    "class Triangle():\n",
    "    def __init__(self,a,b,c):\n",
    "        self.a=a\n",
    "        self.b=b\n",
    "        self.c=c\n",
    "class Area(Triangle):\n",
    "    def __init__(self,*args):\n",
    "        super(Area,self).__init__(*args)\n",
    "    def get_area(self):\n",
    "        s=(self.a+self.b+self.c)/2\n",
    "        area=((s*(s-self.a)*(s-self.b)*(s-self.c))**0.5)\n",
    "        return area\n",
    "A=Area(20,15,10)\n",
    "result=A.get_area()\n",
    "print(result)"
   ]
  },
  {
   "cell_type": "raw",
   "metadata": {},
   "source": [
    "1.2 Write a function filter_long_words() that takes a list of words and an integer n and returns the list\n",
    "of words that are longer than n."
   ]
  },
  {
   "cell_type": "code",
   "execution_count": 36,
   "metadata": {},
   "outputs": [
    {
     "data": {
      "text/plain": [
       "['name', 'aparna', 'hello']"
      ]
     },
     "execution_count": 36,
     "metadata": {},
     "output_type": "execute_result"
    }
   ],
   "source": [
    "def filter_long_words(lis,n): \n",
    "    word=li.split()\n",
    "    result=list(filter(lambda word:(len(word))>n,word))\n",
    "    return result\n",
    "li=\"my name is aparna hai hello\"\n",
    "n=3\n",
    "filter_long_words(li,n)\n"
   ]
  },
  {
   "cell_type": "raw",
   "metadata": {},
   "source": [
    "2.1 Write a Python program using function concept that maps list of words into a list of integers\n",
    "representing the lengths of the corresponding words."
   ]
  },
  {
   "cell_type": "code",
   "execution_count": 38,
   "metadata": {},
   "outputs": [
    {
     "data": {
      "text/plain": [
       "[2, 3, 4]"
      ]
     },
     "execution_count": 38,
     "metadata": {},
     "output_type": "execute_result"
    }
   ],
   "source": [
    "def list_of_integers(li):\n",
    "    lis=[]\n",
    "    for word in li:\n",
    "        lis.append(len(word))\n",
    "    return lis\n",
    "list_of_words=['ab','cde','erty']\n",
    "list_of_integers(list_of_words)\n",
    "    "
   ]
  },
  {
   "cell_type": "raw",
   "metadata": {},
   "source": [
    "2.2 Write a Python function which takes a character (i.e. a string of length 1) and returns True if it is\n",
    "a vowel, False otherwise."
   ]
  },
  {
   "cell_type": "code",
   "execution_count": 43,
   "metadata": {},
   "outputs": [
    {
     "name": "stdout",
     "output_type": "stream",
     "text": [
      "Enter a character :i\n"
     ]
    },
    {
     "data": {
      "text/plain": [
       "True"
      ]
     },
     "execution_count": 43,
     "metadata": {},
     "output_type": "execute_result"
    }
   ],
   "source": [
    "def is_vowel(character):\n",
    "    x=character.lower()\n",
    "    vowels='aeiou'\n",
    "    if x in vowels:\n",
    "        return True\n",
    "    else:\n",
    "        return False\n",
    "is_vowel(input(\"Enter a character :\"))\n",
    "    \n",
    "    "
   ]
  },
  {
   "cell_type": "code",
   "execution_count": null,
   "metadata": {},
   "outputs": [],
   "source": []
  }
 ],
 "metadata": {
  "kernelspec": {
   "display_name": "Python 3",
   "language": "python",
   "name": "python3"
  },
  "language_info": {
   "codemirror_mode": {
    "name": "ipython",
    "version": 3
   },
   "file_extension": ".py",
   "mimetype": "text/x-python",
   "name": "python",
   "nbconvert_exporter": "python",
   "pygments_lexer": "ipython3",
   "version": "3.7.4"
  }
 },
 "nbformat": 4,
 "nbformat_minor": 2
}
